{
 "cells": [
  {
   "cell_type": "code",
   "execution_count": 4,
   "metadata": {
    "collapsed": true
   },
   "outputs": [],
   "source": [
    "import numpy as np\n",
    "import csv\n",
    "import pandas as pd\n",
    "import matplotlib.pyplot as plt"
   ]
  },
  {
   "cell_type": "code",
   "execution_count": 5,
   "metadata": {
    "collapsed": true
   },
   "outputs": [],
   "source": []
  },
  {
   "cell_type": "code",
   "execution_count": 12,
   "metadata": {
    "collapsed": false
   },
   "outputs": [
    {
     "name": "stdout",
     "output_type": "stream",
     "text": [
      "Train Data : (400, 15)\n",
      "Test Data : (105, 14)\n",
      "Features (400, 14)\n",
      "Actual (400,)\n"
     ]
    }
   ],
   "source": [
    "data = np.genfromtxt(\"ml/train.csv\",delimiter=\",\",skip_header=1)\n",
    "print(\"Train Data : \"+str( data.shape))\n",
    "\n",
    "test_data=np.genfromtxt(\"ml/test.csv\",delimiter=\",\" ,skip_header=1)\n",
    "print (\"Test Data : \"+ str(test_data.shape))\n",
    "\n",
    "#data=normalizer(data)\n",
    "\n",
    "data_features=data[:,1:14] #excluding the ids and the actual output\n",
    "data_output=data[:,14] # actual output\n",
    "\n",
    "test_data=test_data[:,1:]\n",
    "ones=np.ones(shape=(data_features.shape[0])) #vector of 1's\n",
    "data_features=np.column_stack((ones,data_features)) #to have some constant\n",
    "test_data=np.column_stack((np.ones(shape=(test_data.shape[0])),test_data))\n",
    "\n",
    "print(\"Features \" +str(data_features.shape))\n",
    "print(\"Actual \" +str(data_output.shape))\n",
    "\n",
    "\n",
    "np.savetxt(\"ml/normalized_train.csv\",data_features.astype(int),delimiter=\",\",fmt=\"%.2f\")\n",
    "np.savetxt(\"ml/normalized_test.csv\",test_data.astype(int),delimiter=\",\",fmt=\"%.2f\")\n"
   ]
  },
  {
   "cell_type": "code",
   "execution_count": 13,
   "metadata": {
    "collapsed": false
   },
   "outputs": [
    {
     "name": "stdout",
     "output_type": "stream",
     "text": [
      "[  3.08753522e+01  -1.21468264e-01   4.03791196e-02   1.68841001e-03\n",
      "   2.79185174e+00  -1.77735461e+01   4.49691448e+00  -3.96675616e-03\n",
      "  -1.39441648e+00   3.03807644e-01  -1.34121133e-02  -9.06495072e-01\n",
      "   8.73559768e-03  -4.22064958e-01]\n",
      "[ 8558.7592103]\n"
     ]
    }
   ],
   "source": [
    "weight=np.linalg.lstsq(data_features,data_output)[0] #weight matrix\n",
    "print (weight)\n",
    "lse=np.linalg.lstsq(data_features,data_output)[1] #least squared error\n",
    "print(lse)\n",
    "linear_model=np.matmul( data_features,weight)"
   ]
  },
  {
   "cell_type": "code",
   "execution_count": 14,
   "metadata": {
    "collapsed": false
   },
   "outputs": [
    {
     "name": "stdout",
     "output_type": "stream",
     "text": [
      "int8\n",
      "float64\n"
     ]
    }
   ],
   "source": [
    "\n",
    "predicted = np.matmul( test_data,weight)\n",
    "ids=test_data[:,0].astype(np.int8)\n",
    "print (ids.dtype)\n",
    "print (predicted.dtype)\n",
    "\n",
    "ouput=np.column_stack((ids,predicted))\n",
    "\n",
    "\n",
    "np.savetxt(\"ml/predicted.csv\",ouput,delimiter=\",\",fmt=\"%d,%.2f\")"
   ]
  },
  {
   "cell_type": "code",
   "execution_count": null,
   "metadata": {
    "collapsed": true
   },
   "outputs": [],
   "source": []
  }
 ],
 "metadata": {
  "kernelspec": {
   "display_name": "Python 3",
   "language": "python",
   "name": "python3"
  },
  "language_info": {
   "codemirror_mode": {
    "name": "ipython",
    "version": 3
   },
   "file_extension": ".py",
   "mimetype": "text/x-python",
   "name": "python",
   "nbconvert_exporter": "python",
   "pygments_lexer": "ipython3",
   "version": "3.5.2"
  }
 },
 "nbformat": 4,
 "nbformat_minor": 2
}
