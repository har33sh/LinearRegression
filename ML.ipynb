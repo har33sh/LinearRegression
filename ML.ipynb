{
 "cells": [
  {
   "cell_type": "code",
   "execution_count": 2,
   "metadata": {
    "collapsed": true
   },
   "outputs": [],
   "source": [
    "import numpy as np\n",
    "import csv\n",
    "import pandas as pd\n",
    "import matplotlib.pyplot as plt"
   ]
  },
  {
   "cell_type": "code",
   "execution_count": 6,
   "metadata": {
    "collapsed": false
   },
   "outputs": [
    {
     "name": "stdout",
     "output_type": "stream",
     "text": [
      "Train Data : (400, 15)\n",
      "Test Data : (105, 14)\n",
      "Features (400, 13)\n",
      "Actual (400,)\n",
      "Test (105, 13)\n"
     ]
    }
   ],
   "source": [
    "data = np.genfromtxt(\"data/train.csv\",delimiter=\",\",skip_header=1)\n",
    "print(\"Train Data : \"+str( data.shape))\n",
    "\n",
    "test_data=np.genfromtxt(\"data/test.csv\",delimiter=\",\" ,skip_header=1)\n",
    "print (\"Test Data : \"+ str(test_data.shape))\n",
    "\n",
    "data_features=data[:,1:14] #excluding the ids and the actual output\n",
    "data_output=data[:,14] # actual output\n",
    "\n",
    "test_data=test_data[:,1:]\n",
    "\n",
    "print(\"Features \" +str(data_features.shape))\n",
    "print(\"Actual \" +str(data_output.shape))\n",
    "print(\"Test \" +str(test_data.shape))\n"
   ]
  },
  {
   "cell_type": "code",
   "execution_count": 7,
   "metadata": {
    "collapsed": false
   },
   "outputs": [
    {
     "name": "stdout",
     "output_type": "stream",
     "text": [
      "[-0.11005401  0.04057171 -0.0150421   3.01369611 -5.47150601  6.33721497\n",
      " -0.01369882 -0.98695374  0.18391857 -0.01087955 -0.44275166  0.01399038\n",
      " -0.31669307]\n",
      "Totoal Error [ 9190.18859405]\n"
     ]
    }
   ],
   "source": [
    "weight=np.linalg.lstsq(data_features,data_output)[0] #weight matrix\n",
    "print (weight)\n",
    "lse=np.linalg.lstsq(data_features,data_output)[1] #least squared error\n",
    "print(\"Totoal Error \" +str(lse))\n",
    "linear_model=np.matmul( data_features,weight)"
   ]
  },
  {
   "cell_type": "code",
   "execution_count": 9,
   "metadata": {
    "collapsed": false
   },
   "outputs": [],
   "source": [
    "\n",
    "predicted = np.matmul( test_data,weight)\n",
    "ids=test_data[:,0].astype(np.int8)\n",
    "\n",
    "ouput=np.column_stack((ids,predicted))\n",
    "\n",
    "\n",
    "np.savetxt(\"data/predicted.csv\",ouput,delimiter=\",\",fmt=\"%d,%.2f\")"
   ]
  },
  {
   "cell_type": "code",
   "execution_count": null,
   "metadata": {
    "collapsed": true
   },
   "outputs": [],
   "source": []
  }
 ],
 "metadata": {
  "kernelspec": {
   "display_name": "Python 3",
   "language": "python",
   "name": "python3"
  },
  "language_info": {
   "codemirror_mode": {
    "name": "ipython",
    "version": 3
   },
   "file_extension": ".py",
   "mimetype": "text/x-python",
   "name": "python",
   "nbconvert_exporter": "python",
   "pygments_lexer": "ipython3",
   "version": "3.5.2"
  }
 },
 "nbformat": 4,
 "nbformat_minor": 2
}
